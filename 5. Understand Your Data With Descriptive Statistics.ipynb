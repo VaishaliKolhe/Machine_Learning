{
 "cells": [
  {
   "cell_type": "markdown",
   "metadata": {},
   "source": [
    "# Understand Your Data With Descriptive Statistics"
   ]
  },
  {
   "cell_type": "markdown",
   "metadata": {},
   "source": [
    "You must understand your data in order to get the best results.\n",
    "\n",
    "#### Things to do with your data:\n",
    "\n",
    "**1. Take a peek at your raw data.** <br>\n",
    "**2. Review the dimensions of your dataset.** <br>\n",
    "**3. Review the data types of attributes in your data.** <br>\n",
    "**4. Summarize the distribution of instances across classes in your dataset.** <br>\n",
    "**5. Summarize your data using descriptive statistics.** <br>\n",
    "**6. Understand the relationships in your data using correlations.** <br>\n",
    "**7. Review the skew of the distributions of each attribute.** <br>"
   ]
  },
  {
   "cell_type": "markdown",
   "metadata": {},
   "source": [
    "## 1. Peek at Your Data: \n",
    "\n",
    "There is no substitute for looking at the raw data. <br>\n",
    "Looking at the raw data can reveal insights that you cannot get any other way. <br>\n",
    "You can review the first 20 rows of your data using the **head()** function on the Pandas DataFrame."
   ]
  },
  {
   "cell_type": "markdown",
   "metadata": {},
   "source": [
    "#### CODE:"
   ]
  },
  {
   "cell_type": "code",
   "execution_count": 8,
   "metadata": {},
   "outputs": [
    {
     "name": "stdout",
     "output_type": "stream",
     "text": [
      "     preg    plas    pres    skin    test    mass    pedi    age    class \n",
      "0        6     148      72      35       0    33.6   0.627     50        1\n",
      "1        1      85      66      29       0    26.6   0.351     31        0\n",
      "2        8     183      64       0       0    23.3   0.672     32        1\n",
      "3        1      89      66      23      94    28.1   0.167     21        0\n",
      "4        0     137      40      35     168    43.1   2.288     33        1\n",
      "5        5     116      74       0       0    25.6   0.201     30        0\n",
      "6        3      78      50      32      88    31.0   0.248     26        1\n",
      "7       10     115       0       0       0    35.3   0.134     29        0\n",
      "8        2     197      70      45     543    30.5   0.158     53        1\n",
      "9        8     125      96       0       0     0.0   0.232     54        1\n",
      "10       4     110      92       0       0    37.6   0.191     30        0\n",
      "11      10     168      74       0       0    38.0   0.537     34        1\n",
      "12      10     139      80       0       0    27.1   1.441     57        0\n",
      "13       1     189      60      23     846    30.1   0.398     59        1\n",
      "14       5     166      72      19     175    25.8   0.587     51        1\n",
      "15       7     100       0       0       0    30.0   0.484     32        1\n",
      "16       0     118      84      47     230    45.8   0.551     31        1\n",
      "17       7     107      74       0       0    29.6   0.254     31        1\n",
      "18       1     103      30      38      83    43.3   0.183     33        0\n",
      "19       1     115      70      30      96    34.6   0.529     32        1\n"
     ]
    }
   ],
   "source": [
    "# View first 20 rows\n",
    "\n",
    "import pandas as pd\n",
    "\n",
    "filename = '/home/ubuntu/Desktop/ML/Machine Learning With Python/pima-indians-diabetes.data.csv'\n",
    "\n",
    "names = [ ' preg ' , ' plas ' , ' pres ' , ' skin ' , ' test ' , ' mass ' , ' pedi ' , ' age ' , ' class ' ] # Names to columns\n",
    "data = pd.read_csv(filename, names=names)\n",
    "\n",
    "peek = data.head(20)\n",
    "\n",
    "print(peek)"
   ]
  },
  {
   "cell_type": "markdown",
   "metadata": {},
   "source": [
    "You can see that the first column lists the row number, which is handy for referencing a\n",
    "specific observation."
   ]
  },
  {
   "cell_type": "markdown",
   "metadata": {},
   "source": [
    "## 2. Dimensions of Your Data:\n",
    "\n",
    "You must have a very good handle on how much data you have, both in terms of rows and\n",
    "columns.<br>\n",
    "1. Too many rows and algorithms may take too long to train. Too few and perhaps you do\n",
    "not have enough data to train the algorithms.<br>\n",
    "2. Too many features and some algorithms can be distracted or suffer poor performance due\n",
    "to the curse of dimensionality."
   ]
  },
  {
   "cell_type": "markdown",
   "metadata": {},
   "source": [
    "#### CODE:"
   ]
  },
  {
   "cell_type": "code",
   "execution_count": 9,
   "metadata": {},
   "outputs": [
    {
     "name": "stdout",
     "output_type": "stream",
     "text": [
      "(768, 9)\n"
     ]
    }
   ],
   "source": [
    "# Dimensions of your data\n",
    "\n",
    "import pandas as pd\n",
    "\n",
    "filename = '/home/ubuntu/Desktop/ML/Machine Learning With Python/pima-indians-diabetes.data.csv'\n",
    "\n",
    "names = [ ' preg ' , ' plas ' , ' pres ' , ' skin ' , ' test ' , ' mass ' , ' pedi ' , ' age ' , ' class ' ] # Names to columns\n",
    "data = pd.read_csv(filename, names=names)\n",
    "\n",
    "shape = data.shape\n",
    "\n",
    "print(shape)"
   ]
  },
  {
   "cell_type": "markdown",
   "metadata": {},
   "source": [
    "The results are listed in rows then columns. You can see that the dataset has 768 rows and\n",
    "9 columns."
   ]
  },
  {
   "cell_type": "markdown",
   "metadata": {},
   "source": [
    " ## 3. Data Type For Each Attribute:\n",
    "\n",
    "The type of each attribute is important. <br>\n",
    "Strings may need to be converted to floating point values or integers to represent categorical or ordinal values. <br>\n",
    "You can get an idea of the types of attributes by peeking at the raw data. You can also list the data types used by the DataFrame to characterize each attribute using the **dtypes** property."
   ]
  },
  {
   "cell_type": "markdown",
   "metadata": {},
   "source": [
    "#### CODE:"
   ]
  },
  {
   "cell_type": "code",
   "execution_count": 10,
   "metadata": {},
   "outputs": [
    {
     "name": "stdout",
     "output_type": "stream",
     "text": [
      " preg        int64\n",
      " plas        int64\n",
      " pres        int64\n",
      " skin        int64\n",
      " test        int64\n",
      " mass      float64\n",
      " pedi      float64\n",
      " age         int64\n",
      " class       int64\n",
      "dtype: object\n"
     ]
    }
   ],
   "source": [
    "# Data Types for Each Attribute\n",
    "\n",
    "import pandas as pd\n",
    "\n",
    "filename = '/home/ubuntu/Desktop/ML/Machine Learning With Python/pima-indians-diabetes.data.csv'\n",
    "\n",
    "names = [ ' preg ' , ' plas ' , ' pres ' , ' skin ' , ' test ' , ' mass ' , ' pedi ' , ' age ' , ' class ' ] # Names to columns\n",
    "data = pd.read_csv(filename, names=names)\n",
    "\n",
    "types = data.dtypes\n",
    "\n",
    "print(types)"
   ]
  },
  {
   "cell_type": "markdown",
   "metadata": {},
   "source": [
    "You can see that most of the attributes are integers and that mass and pedi are floating\n",
    "point types."
   ]
  },
  {
   "cell_type": "markdown",
   "metadata": {},
   "source": [
    " ## 4. Descriptive Statistics:\n",
    "\n",
    "Descriptive statistics can give you great insight into the shape of each attribute. <br>\n",
    "The **describe()** function on the Pandas DataFrame lists 8 statistical properties of each attribute. \n",
    "<br>They are:\n",
    "1. Count.\n",
    "2. Mean.\n",
    "3. Standard Deviation.\n",
    "4. Minimum Value.\n",
    "5. 25th Percentile.\n",
    "6. 50th Percentile (Median).\n",
    "7. 75th Percentile.\n",
    "8. Maximum Value."
   ]
  },
  {
   "cell_type": "markdown",
   "metadata": {},
   "source": [
    "#### CODE:"
   ]
  },
  {
   "cell_type": "code",
   "execution_count": 11,
   "metadata": {},
   "outputs": [
    {
     "name": "stdout",
     "output_type": "stream",
     "text": [
      "            preg        plas        pres        skin        test        mass   \\\n",
      "count  768.000000  768.000000  768.000000  768.000000  768.000000  768.000000   \n",
      "mean     3.845052  120.894531   69.105469   20.536458   79.799479   31.992578   \n",
      "std      3.369578   31.972618   19.355807   15.952218  115.244002    7.884160   \n",
      "min      0.000000    0.000000    0.000000    0.000000    0.000000    0.000000   \n",
      "25%      1.000000   99.000000   62.000000    0.000000    0.000000   27.300000   \n",
      "50%      3.000000  117.000000   72.000000   23.000000   30.500000   32.000000   \n",
      "75%      6.000000  140.250000   80.000000   32.000000  127.250000   36.600000   \n",
      "max     17.000000  199.000000  122.000000   99.000000  846.000000   67.100000   \n",
      "\n",
      "            pedi         age       class   \n",
      "count  768.000000  768.000000  768.000000  \n",
      "mean     0.471876   33.240885    0.348958  \n",
      "std      0.331329   11.760232    0.476951  \n",
      "min      0.078000   21.000000    0.000000  \n",
      "25%      0.243750   24.000000    0.000000  \n",
      "50%      0.372500   29.000000    0.000000  \n",
      "75%      0.626250   41.000000    1.000000  \n",
      "max      2.420000   81.000000    1.000000  \n"
     ]
    }
   ],
   "source": [
    "# Statistical Summary\n",
    "\n",
    "import pandas as pd\n",
    "\n",
    "filename = '/home/ubuntu/Desktop/ML/Machine Learning With Python/pima-indians-diabetes.data.csv'\n",
    "\n",
    "names = [ ' preg ' , ' plas ' , ' pres ' , ' skin ' , ' test ' , ' mass ' , ' pedi ' , ' age ' , ' class ' ] # Names to columns\n",
    "data = pd.read_csv(filename, names=names)\n",
    "\n",
    "description = data.describe()\n",
    "\n",
    "print(description)"
   ]
  },
  {
   "cell_type": "markdown",
   "metadata": {},
   "source": [
    " ## 5. Class Distribution (Classification Only):\n",
    "\n",
    "On classification problems you need to know how balanced the class values are.<br> Highly imbalanced\n",
    "problems (a lot more observations for one class than another) are common and may need special\n",
    "handling in the data preparation stage of your project.<br> You can quickly get an idea of the\n",
    "distribution of the class attribute in Pandas using **groupby( ' class Label ' ).size()** function."
   ]
  },
  {
   "cell_type": "markdown",
   "metadata": {},
   "source": [
    "#### CODE:"
   ]
  },
  {
   "cell_type": "code",
   "execution_count": 14,
   "metadata": {},
   "outputs": [
    {
     "name": "stdout",
     "output_type": "stream",
     "text": [
      " class \n",
      "0    500\n",
      "1    268\n",
      "dtype: int64\n"
     ]
    }
   ],
   "source": [
    "# Class Distribution\n",
    "\n",
    "import pandas as pd\n",
    "\n",
    "filename = '/home/ubuntu/Desktop/ML/Machine Learning With Python/pima-indians-diabetes.data.csv'\n",
    "\n",
    "names = [ ' preg ' , ' plas ' , ' pres ' , ' skin ' , ' test ' , ' mass ' , ' pedi ' , ' age ' , ' class ' ] # Names to columns\n",
    "data = pd.read_csv(filename, names=names)\n",
    "\n",
    "class_counts = data.groupby( ' class ' ).size()\n",
    "\n",
    "print(class_counts)"
   ]
  },
  {
   "cell_type": "markdown",
   "metadata": {},
   "source": [
    "You can see that there are nearly double the number of observations with class 0 (no onset\n",
    "of diabetes) than there are with class 1 (onset of diabetes)."
   ]
  },
  {
   "cell_type": "markdown",
   "metadata": {},
   "source": [
    " ## 6. Correlations Between Attributes:\n",
    "\n",
    "Correlation refers to the relationship between two variables and how they may or may not\n",
    "change together. <br> The most common method for calculating correlation is **Pearson’s Correlation\n",
    "Coefficient**, that assumes a normal distribution of the attributes involved.<br> A correlation of -1\n",
    "or 1 shows a full negative or positive correlation respectively. Whereas a value of 0 shows no\n",
    "correlation at all. <br>Some machine learning algorithms like linear and logistic regression can suffer\n",
    "poor performance if there are highly correlated attributes in your dataset. As such, it is a good\n",
    "idea to review all of the pairwise correlations of the attributes in your dataset. <br> You can use the\n",
    "**corr()** function on the Pandas DataFrame to calculate a correlation matrix."
   ]
  },
  {
   "cell_type": "markdown",
   "metadata": {},
   "source": [
    "#### CODE:"
   ]
  },
  {
   "cell_type": "code",
   "execution_count": 16,
   "metadata": {},
   "outputs": [
    {
     "name": "stdout",
     "output_type": "stream",
     "text": [
      "            preg      plas      pres      skin      test      mass      pedi   \\\n",
      " preg    1.000000  0.129459  0.141282 -0.081672 -0.073535  0.017683 -0.033523   \n",
      " plas    0.129459  1.000000  0.152590  0.057328  0.331357  0.221071  0.137337   \n",
      " pres    0.141282  0.152590  1.000000  0.207371  0.088933  0.281805  0.041265   \n",
      " skin   -0.081672  0.057328  0.207371  1.000000  0.436783  0.392573  0.183928   \n",
      " test   -0.073535  0.331357  0.088933  0.436783  1.000000  0.197859  0.185071   \n",
      " mass    0.017683  0.221071  0.281805  0.392573  0.197859  1.000000  0.140647   \n",
      " pedi   -0.033523  0.137337  0.041265  0.183928  0.185071  0.140647  1.000000   \n",
      " age     0.544341  0.263514  0.239528 -0.113970 -0.042163  0.036242  0.033561   \n",
      " class   0.221898  0.466581  0.065068  0.074752  0.130548  0.292695  0.173844   \n",
      "\n",
      "             age     class   \n",
      " preg    0.544341  0.221898  \n",
      " plas    0.263514  0.466581  \n",
      " pres    0.239528  0.065068  \n",
      " skin   -0.113970  0.074752  \n",
      " test   -0.042163  0.130548  \n",
      " mass    0.036242  0.292695  \n",
      " pedi    0.033561  0.173844  \n",
      " age     1.000000  0.238356  \n",
      " class   0.238356  1.000000  \n"
     ]
    }
   ],
   "source": [
    "# Pairwise Pearson correlations\n",
    "\n",
    "import pandas as pd\n",
    "\n",
    "filename = '/home/ubuntu/Desktop/ML/Machine Learning With Python/pima-indians-diabetes.data.csv'\n",
    "\n",
    "names = [ ' preg ' , ' plas ' , ' pres ' , ' skin ' , ' test ' , ' mass ' , ' pedi ' , ' age ' , ' class ' ] # Names to columns\n",
    "data = pd.read_csv(filename, names=names)\n",
    "\n",
    "correlations = data.corr(method= 'pearson' )\n",
    "\n",
    "print(correlations)"
   ]
  },
  {
   "cell_type": "markdown",
   "metadata": {},
   "source": [
    "The matrix lists all attributes across the top and down the side, to give correlation between\n",
    "all pairs of attributes (twice, because the matrix is symmetrical).<br> You can see the diagonal\n",
    "line through the matrix from the top left to bottom right corners of the matrix shows perfect\n",
    "correlation of each attribute with itself."
   ]
  },
  {
   "cell_type": "markdown",
   "metadata": {},
   "source": [
    "## 7. Skew of Univariate Distributions:\n",
    "\n",
    "Skew refers to a distribution that is assumed Gaussian (normal or bell curve) that is shifted or\n",
    "squashed in one direction or another.<br> Many machine learning algorithms assume a Gaussian\n",
    "distribution. Knowing that an attribute has a skew may allow you to perform data preparation\n",
    "to correct the skew and later improve the accuracy of your models.<br> You can calculate the skew\n",
    "of each attribute using the **skew()** function on the Pandas DataFrame."
   ]
  },
  {
   "cell_type": "markdown",
   "metadata": {},
   "source": [
    "#### CODE:"
   ]
  },
  {
   "cell_type": "code",
   "execution_count": 17,
   "metadata": {},
   "outputs": [
    {
     "name": "stdout",
     "output_type": "stream",
     "text": [
      " preg      0.901674\n",
      " plas      0.173754\n",
      " pres     -1.843608\n",
      " skin      0.109372\n",
      " test      2.272251\n",
      " mass     -0.428982\n",
      " pedi      1.919911\n",
      " age       1.129597\n",
      " class     0.635017\n",
      "dtype: float64\n"
     ]
    }
   ],
   "source": [
    "# Skew for each attribute\n",
    "\n",
    "import pandas as pd\n",
    "\n",
    "filename = '/home/ubuntu/Desktop/ML/Machine Learning With Python/pima-indians-diabetes.data.csv'\n",
    "\n",
    "names = [ ' preg ' , ' plas ' , ' pres ' , ' skin ' , ' test ' , ' mass ' , ' pedi ' , ' age ' , ' class ' ] # Names to columns\n",
    "data = pd.read_csv(filename, names=names)\n",
    "\n",
    "skew = data.skew()\n",
    "\n",
    "print(skew)"
   ]
  },
  {
   "cell_type": "markdown",
   "metadata": {},
   "source": [
    "The skew result show a positive (right) or negative (left) skew. Values closer to zero show\n",
    "less skew."
   ]
  },
  {
   "cell_type": "code",
   "execution_count": null,
   "metadata": {},
   "outputs": [],
   "source": []
  }
 ],
 "metadata": {
  "kernelspec": {
   "display_name": "Python 3",
   "language": "python",
   "name": "python3"
  },
  "language_info": {
   "codemirror_mode": {
    "name": "ipython",
    "version": 3
   },
   "file_extension": ".py",
   "mimetype": "text/x-python",
   "name": "python",
   "nbconvert_exporter": "python",
   "pygments_lexer": "ipython3",
   "version": "3.6.9"
  }
 },
 "nbformat": 4,
 "nbformat_minor": 2
}
