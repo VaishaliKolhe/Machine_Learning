{
 "cells": [
  {
   "cell_type": "markdown",
   "metadata": {},
   "source": [
    "# How to load dataset in Machine Learning Projects!"
   ]
  },
  {
   "cell_type": "markdown",
   "metadata": {},
   "source": [
    "You must be able to load your data before you can start your machine learning project. \n",
    "The most common format for machine learning data is CSV files. \n",
    "#### There are a number of ways to load a CSV file in Python."
   ]
  },
  {
   "cell_type": "markdown",
   "metadata": {},
   "source": [
    "#### 1. Load CSV Files with the Python Standard Library.\n",
    "#### 2. Load CSV Files with NumPy.\n",
    "#### 3. Load CSV Files with Pandas."
   ]
  },
  {
   "cell_type": "markdown",
   "metadata": {},
   "source": [
    "## 1. Considerations When Loading CSV Data:\n",
    "\n",
    "#### 1.1 File Header:\n",
    "Does your data have a file header? If so this can help in automatically assigning names to each\n",
    "column of data. If not, you may need to name your attributes manually. \n",
    "###### Either way, you should explicitly specify whether or not your CSV file had a file header when loading your data.\n",
    "\n",
    "#### 1.2 Comments:\n",
    "Does your data have comments? Comments in a CSV file are indicated by a hash (#) at the\n",
    "start of a line. \n",
    "##### If you have comments in your file, depending on the method used to load your data, you may need to indicate whether or not to expect comments and the character to expect to signify a comment line.\n",
    "\n",
    "#### 1.3 Delimiter:\n",
    "The standard delimiter that separates values in fields is the comma (,) character. \n",
    "##### Your file could use a different delimiter like tab or white space in which case you must specify it explicitly.\n",
    "\n",
    "#### 1.4 Quotes:\n",
    "Sometimes field values can have spaces. In these CSV files the values are often quoted. The\n",
    "default quote character is the double quotation marks character. \n",
    "##### Other characters can be used, and you must specify the quote character used in your file."
   ]
  },
  {
   "cell_type": "markdown",
   "metadata": {},
   "source": [
    "## 2. Load CSV Files with the Python Standard Library: \n",
    "\n",
    "The Python API provides the module **CSV** and the function **reader()** that can be used to load\n",
    "CSV files. Once loaded, you can convert the CSV data to a NumPy array and use it for machine\n",
    "learning.  <br> For example, you can download the Pima Indians dataset into your local directory\n",
    "with the filename **pima-indians-diabetes.data.csv**. This dataset describes the medical records for Pima Indians\n",
    "and whether or not each patient will have an onset of diabetes within five years. As such it\n",
    "is a classification problem. It is a good dataset for demonstration because all of the input\n",
    "attributes are numeric and the output variable to be predicted is binary (0 or 1) and there is no header line. <br> [Dataset Link: pima-indians-diabetes.data.csv](https://github.com/jbrownlee/Datasets/blob/master/pima-indians-diabetes.csv)\n"
   ]
  },
  {
   "cell_type": "markdown",
   "metadata": {},
   "source": [
    "#### CODE:"
   ]
  },
  {
   "cell_type": "code",
   "execution_count": 1,
   "metadata": {},
   "outputs": [
    {
     "name": "stdout",
     "output_type": "stream",
     "text": [
      "[[  6.    148.     72.    ...   0.627  50.      1.   ]\n",
      " [  1.     85.     66.    ...   0.351  31.      0.   ]\n",
      " [  8.    183.     64.    ...   0.672  32.      1.   ]\n",
      " ...\n",
      " [  5.    121.     72.    ...   0.245  30.      0.   ]\n",
      " [  1.    126.     60.    ...   0.349  47.      1.   ]\n",
      " [  1.     93.     70.    ...   0.315  23.      0.   ]]\n",
      "Type:  <class 'numpy.ndarray'>\n"
     ]
    }
   ],
   "source": [
    "# Load CSV Using Python Standard Library\n",
    "\n",
    "import csv\n",
    "import numpy\n",
    "\n",
    "filename = '/home/ubuntu/Desktop/ML/Machine Learning With Python/pima-indians-diabetes.data.csv'\n",
    "\n",
    "raw_data = open(filename,'r')\n",
    "\n",
    "reader = csv.reader(raw_data, delimiter= ',')\n",
    "\n",
    "x = list(reader)\n",
    "\n",
    "data = numpy.array(x).astype('float')\n",
    "print(data)\n",
    "\n",
    "print(\"Type: \", type(data))"
   ]
  },
  {
   "cell_type": "markdown",
   "metadata": {},
   "source": [
    "## 3. Load CSV Files with the NumPy Library: \n",
    "\n",
    "You can load your CSV data using NumPy and the **numpy.loadtxt()** function. This function\n",
    "assumes no header row and all data has the same format. \n",
    "\n",
    "#### CODE:"
   ]
  },
  {
   "cell_type": "code",
   "execution_count": 2,
   "metadata": {},
   "outputs": [
    {
     "name": "stdout",
     "output_type": "stream",
     "text": [
      "[[  6.    148.     72.    ...   0.627  50.      1.   ]\n",
      " [  1.     85.     66.    ...   0.351  31.      0.   ]\n",
      " [  8.    183.     64.    ...   0.672  32.      1.   ]\n",
      " ...\n",
      " [  5.    121.     72.    ...   0.245  30.      0.   ]\n",
      " [  1.    126.     60.    ...   0.349  47.      1.   ]\n",
      " [  1.     93.     70.    ...   0.315  23.      0.   ]]\n",
      "Type:  <class 'numpy.ndarray'>\n"
     ]
    }
   ],
   "source": [
    "# Load CSV using NumPy\n",
    "\n",
    "import numpy \n",
    "\n",
    "filename = '/home/ubuntu/Desktop/ML/Machine Learning With Python/pima-indians-diabetes.data.csv'\n",
    "\n",
    "raw_data = open(filename,'r')\n",
    "\n",
    "data = numpy.loadtxt(raw_data, delimiter=',') ## It will load the file as a numpy.ndarray\n",
    "\n",
    "print(data)\n",
    "print(\"Type: \", type(data))"
   ]
  },
  {
   "cell_type": "markdown",
   "metadata": {},
   "source": [
    "### To load the same dataset directly from a URL :\n",
    "\n",
    "#### CODE:"
   ]
  },
  {
   "cell_type": "code",
   "execution_count": 3,
   "metadata": {},
   "outputs": [
    {
     "name": "stdout",
     "output_type": "stream",
     "text": [
      "(768, 9)\n",
      "[[  6.    148.     72.    ...   0.627  50.      1.   ]\n",
      " [  1.     85.     66.    ...   0.351  31.      0.   ]\n",
      " [  8.    183.     64.    ...   0.672  32.      1.   ]\n",
      " ...\n",
      " [  5.    121.     72.    ...   0.245  30.      0.   ]\n",
      " [  1.    126.     60.    ...   0.349  47.      1.   ]\n",
      " [  1.     93.     70.    ...   0.315  23.      0.   ]]\n",
      "Type:  <class 'numpy.ndarray'>\n"
     ]
    }
   ],
   "source": [
    "# Load CSV from URL using NumPy\n",
    "\n",
    "import numpy\n",
    "from urllib.request import urlopen ### For python3 \n",
    "\n",
    "url = 'https://raw.githubusercontent.com/jbrownlee/Datasets/master/pima-indians-diabetes.csv'\n",
    "\n",
    "raw_data = urlopen(url)\n",
    "dataset = numpy.loadtxt(raw_data, delimiter=\",\")\n",
    "\n",
    "print(dataset.shape)\n",
    "\n",
    "print(dataset)\n",
    "print(\"Type: \", type(dataset))"
   ]
  },
  {
   "cell_type": "markdown",
   "metadata": {},
   "source": [
    "## 4. Load CSV Files with the Pandas Library: \n",
    "\n",
    "You can load your CSV data using Pandas and the **pandas.read_csv()** function. The function returns a pandas.DataFrame that you can immediately start summarizing and plotting.\n",
    "\n",
    "#### CODE:"
   ]
  },
  {
   "cell_type": "code",
   "execution_count": 4,
   "metadata": {},
   "outputs": [
    {
     "name": "stdout",
     "output_type": "stream",
     "text": [
      "(768, 9)\n",
      "    preg    plas    pres    skin    test    mass    pedi    age    class \n",
      "0       6     148      72      35       0    33.6   0.627     50        1\n",
      "1       1      85      66      29       0    26.6   0.351     31        0\n",
      "2       8     183      64       0       0    23.3   0.672     32        1\n",
      "3       1      89      66      23      94    28.1   0.167     21        0\n",
      "4       0     137      40      35     168    43.1   2.288     33        1\n",
      "Type:  <class 'pandas.core.frame.DataFrame'>\n"
     ]
    }
   ],
   "source": [
    "# Load CSV using Pandas\n",
    "\n",
    "import pandas as pd\n",
    "\n",
    "filename = '/home/ubuntu/Desktop/ML/Machine Learning With Python/pima-indians-diabetes.data.csv'\n",
    "\n",
    "names = [ ' preg ' , ' plas ' , ' pres ' , ' skin ' , ' test ' , ' mass ' , ' pedi ' , ' age ' , ' class ' ] # Names to columns\n",
    "data = pd.read_csv(filename, names=names)\n",
    "\n",
    "print(data.shape)\n",
    "\n",
    "print(data.head())\n",
    "\n",
    "print(\"Type: \", type(data))"
   ]
  },
  {
   "cell_type": "markdown",
   "metadata": {},
   "source": [
    "### To load the same dataset directly from a URL :\n",
    "\n",
    "#### CODE:"
   ]
  },
  {
   "cell_type": "code",
   "execution_count": 5,
   "metadata": {},
   "outputs": [
    {
     "name": "stdout",
     "output_type": "stream",
     "text": [
      "(768, 9)\n",
      "    preg    plas    pres    skin    test    mass    pedi    age    class \n",
      "0       6     148      72      35       0    33.6   0.627     50        1\n",
      "1       1      85      66      29       0    26.6   0.351     31        0\n",
      "2       8     183      64       0       0    23.3   0.672     32        1\n",
      "3       1      89      66      23      94    28.1   0.167     21        0\n",
      "4       0     137      40      35     168    43.1   2.288     33        1\n",
      "Type:  <class 'pandas.core.frame.DataFrame'>\n"
     ]
    }
   ],
   "source": [
    "# Load CSV using Pandas from URL\n",
    "\n",
    "import pandas as pd\n",
    "\n",
    "url = 'https://raw.githubusercontent.com/jbrownlee/Datasets/master/pima-indians-diabetes.csv'\n",
    "\n",
    "names = [ ' preg ' , ' plas ' , ' pres ' , ' skin ' , ' test ' , ' mass ' , ' pedi ' , ' age ' , ' class ' ] # Names to columns\n",
    "data = pd.read_csv(filename, names=names)\n",
    "\n",
    "print(data.shape)\n",
    "\n",
    "print(data.head())\n",
    "\n",
    "print(\"Type: \", type(data))"
   ]
  },
  {
   "cell_type": "code",
   "execution_count": null,
   "metadata": {},
   "outputs": [],
   "source": []
  },
  {
   "cell_type": "code",
   "execution_count": null,
   "metadata": {},
   "outputs": [],
   "source": []
  }
 ],
 "metadata": {
  "kernelspec": {
   "display_name": "Python 3",
   "language": "python",
   "name": "python3"
  },
  "language_info": {
   "codemirror_mode": {
    "name": "ipython",
    "version": 3
   },
   "file_extension": ".py",
   "mimetype": "text/x-python",
   "name": "python",
   "nbconvert_exporter": "python",
   "pygments_lexer": "ipython3",
   "version": "3.6.9"
  }
 },
 "nbformat": 4,
 "nbformat_minor": 2
}
